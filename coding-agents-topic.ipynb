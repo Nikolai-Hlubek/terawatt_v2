{
 "cells": [
  {
   "cell_type": "code",
   "execution_count": 1,
   "metadata": {
    "collapsed": true
   },
   "outputs": [],
   "source": [
    "import paho.mqtt.client as mqtt\n",
    "import time\n",
    "import datetime"
   ]
  },
  {
   "cell_type": "code",
   "execution_count": null,
   "metadata": {
    "collapsed": true
   },
   "outputs": [],
   "source": [
    "class KleinerStaubsauger:\n",
    "    def __init__(self, name, topic, host, port):\n",
    "        self._name=name\n",
    "        self._topic=topic\n",
    "\n",
    "        self._client = mqtt.Client()\n",
    "        self._client.username_pw_set('wtd17.coding-agents.energy-app', password='istmiregal')\n",
    "        self._client.on_message = self._on_message\n",
    "        self._client.on_connect = self._on_connect\n",
    "        try:\n",
    "            self._client.connect(host, port, 60)\n",
    "        except Exception as e:\n",
    "            print(e)\n",
    "\n",
    "    def _on_message(self, client, userdata, msg):\n",
    "        try:\n",
    "            f=open(self._name+'.raw', 'a')\n",
    "            f.write('{}: {}'.format(datetime.datetime.now(), str(msg.payload)+'\\n'))\n",
    "            f.close()\n",
    "        except:\n",
    "            print('Error while writing to file: '+self._name)\n",
    "\n",
    "    def _on_connect(self, client, userdata, flags, rc):\n",
    "        print('Connected: '+str(rc))\n",
    "        self._client.subscribe(self._topic)\n",
    "\n",
    "    def start(self):\n",
    "        print('Start client: '+self._name)\n",
    "        try:\n",
    "            self._client.loop_start()\n",
    "        except:\n",
    "            print('Error while writing to file: '+self._name)\n",
    "\n",
    "    def stop(self):\n",
    "        self._client.loop_stop()\n",
    "        self._client.disconnect()\n",
    "\n",
    "ks1=KleinerStaubsauger('coding-agents', 'io/cybus/energie-campus/coding-agents/#', 'energie-campus.cybus.io', 1883)\n",
    "ks2=KleinerStaubsauger('coding-agents-rfid', 'io/cybus/energie-campus/sick/10/rfid/eg/treppe/lesung', 'energie-campus.cybus.io', 1883)"
   ]
  },
  {
   "cell_type": "code",
   "execution_count": null,
   "metadata": {},
   "outputs": [
    {
     "name": "stdout",
     "output_type": "stream",
     "text": [
      "Start client: coding-agents\n",
      "Connected: 0\n",
      "Start client: coding-agents-rfid\n",
      "Connected: 0\n"
     ]
    }
   ],
   "source": [
    "ks1.start()\n",
    "ks2.start()\n",
    "\n",
    "while True:\n",
    "    time.sleep(60)"
   ]
  }
 ],
 "metadata": {
  "kernelspec": {
   "display_name": "Python 3",
   "language": "python",
   "name": "python3"
  },
  "language_info": {
   "codemirror_mode": {
    "name": "ipython",
    "version": 3
   },
   "file_extension": ".py",
   "mimetype": "text/x-python",
   "name": "python",
   "nbconvert_exporter": "python",
   "pygments_lexer": "ipython3",
   "version": "3.6.2"
  },
  "varInspector": {
   "cols": {
    "lenName": 16,
    "lenType": 16,
    "lenVar": 40
   },
   "kernels_config": {
    "python": {
     "delete_cmd_postfix": "",
     "delete_cmd_prefix": "del ",
     "library": "var_list.py",
     "varRefreshCmd": "print(var_dic_list())"
    },
    "r": {
     "delete_cmd_postfix": ") ",
     "delete_cmd_prefix": "rm(",
     "library": "var_list.r",
     "varRefreshCmd": "cat(var_dic_list()) "
    }
   },
   "types_to_exclude": [
    "module",
    "function",
    "builtin_function_or_method",
    "instance",
    "_Feature"
   ],
   "window_display": false
  }
 },
 "nbformat": 4,
 "nbformat_minor": 2
}
