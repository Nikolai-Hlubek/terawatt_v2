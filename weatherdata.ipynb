{
 "cells": [
  {
   "cell_type": "code",
   "execution_count": 263,
   "metadata": {},
   "outputs": [],
   "source": [
    "import requests\n",
    "import pandas\n",
    "import io\n",
    "import datetime"
   ]
  },
  {
   "cell_type": "code",
   "execution_count": 264,
   "metadata": {
    "collapsed": true
   },
   "outputs": [],
   "source": [
    "station={'name': 'HAMBURG INNENSTADT', 'code': 'P0489'}"
   ]
  },
  {
   "cell_type": "code",
   "execution_count": 265,
   "metadata": {
    "collapsed": true
   },
   "outputs": [],
   "source": [
    "url='https://opendata.dwd.de/weather/local_forecasts/poi/{}-MOSMIX.csv'.format(station['code'])\n",
    "r=requests.get(url)"
   ]
  },
  {
   "cell_type": "code",
   "execution_count": 266,
   "metadata": {},
   "outputs": [],
   "source": [
    "data=pandas.read_csv(io.StringIO(r.content.decode('utf-8')), skiprows=2, delimiter=';', decimal=\",\", na_values='---')\n",
    "data['datetime']=[datetime.datetime.strptime('{} {}'.format(row['date'], row['time / content']), '%d.%m.%y %H:%M') for index, row in data.iterrows()]"
   ]
  },
  {
   "cell_type": "code",
   "execution_count": 267,
   "metadata": {},
   "outputs": [],
   "source": [
    "startDate=datetime.datetime(2017, 9, 16, 5)\n",
    "endDate=datetime.datetime(2017, 9, 23)\n",
    "\n",
    "dates=pandas.DataFrame(columns=['datetime'])\n",
    "currentDate=startDate\n",
    "while currentDate <= endDate:\n",
    "    dates=dates.append({'datetime': currentDate}, ignore_index=True)\n",
    "    currentDate=currentDate+datetime.timedelta(hours=1)"
   ]
  },
  {
   "cell_type": "code",
   "execution_count": 268,
   "metadata": {},
   "outputs": [],
   "source": [
    "fullData=pandas.merge(data, dates, how='outer', left_on='datetime', right_on='datetime')[['datetime', 'global radiation last hour']]\n",
    "fullData=fullData.set_index('datetime')\n",
    "fullData=fullData.sort_index()\n",
    "fullData['global radiation last hour']=fullData['global radiation last hour'].fillna(0)\n",
    "fullData['global radiation last hour']=fullData[['global radiation last hour']].rolling(window=7, center=True, min_periods=1).mean()\n",
    "fullData['photo']=[row['global radiation last hour']/3.6 for index, row in fullData.iterrows()]"
   ]
  },
  {
   "cell_type": "code",
   "execution_count": 271,
   "metadata": {},
   "outputs": [],
   "source": [
    "fullData[['photo']].to_csv('sun.csv')"
   ]
  }
 ],
 "metadata": {
  "kernelspec": {
   "display_name": "Python 3",
   "language": "python",
   "name": "python3"
  },
  "language_info": {
   "codemirror_mode": {
    "name": "ipython",
    "version": 3
   },
   "file_extension": ".py",
   "mimetype": "text/x-python",
   "name": "python",
   "nbconvert_exporter": "python",
   "pygments_lexer": "ipython3",
   "version": "3.6.2"
  },
  "varInspector": {
   "cols": {
    "lenName": 16,
    "lenType": 16,
    "lenVar": 40
   },
   "kernels_config": {
    "python": {
     "delete_cmd_postfix": "",
     "delete_cmd_prefix": "del ",
     "library": "var_list.py",
     "varRefreshCmd": "print(var_dic_list())"
    },
    "r": {
     "delete_cmd_postfix": ") ",
     "delete_cmd_prefix": "rm(",
     "library": "var_list.r",
     "varRefreshCmd": "cat(var_dic_list()) "
    }
   },
   "types_to_exclude": [
    "module",
    "function",
    "builtin_function_or_method",
    "instance",
    "_Feature"
   ],
   "window_display": false
  }
 },
 "nbformat": 4,
 "nbformat_minor": 2
}
